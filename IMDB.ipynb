{
 "cells": [
  {
   "cell_type": "code",
   "execution_count": 1,
   "id": "7c43b5f8",
   "metadata": {},
   "outputs": [],
   "source": [
    "import tensorflow as tf\n",
    "from tensorflow.keras import models, layers\n",
    "import matplotlib.pyplot as plt\n",
    "import pandas as pd\n",
    "import numpy as np\n",
    "import seaborn as sns"
   ]
  },
  {
   "cell_type": "code",
   "execution_count": 2,
   "id": "41e42188",
   "metadata": {},
   "outputs": [
    {
     "data": {
      "text/html": [
       "<div>\n",
       "<style scoped>\n",
       "    .dataframe tbody tr th:only-of-type {\n",
       "        vertical-align: middle;\n",
       "    }\n",
       "\n",
       "    .dataframe tbody tr th {\n",
       "        vertical-align: top;\n",
       "    }\n",
       "\n",
       "    .dataframe thead th {\n",
       "        text-align: right;\n",
       "    }\n",
       "</style>\n",
       "<table border=\"1\" class=\"dataframe\">\n",
       "  <thead>\n",
       "    <tr style=\"text-align: right;\">\n",
       "      <th></th>\n",
       "      <th>review</th>\n",
       "      <th>sentiment</th>\n",
       "    </tr>\n",
       "  </thead>\n",
       "  <tbody>\n",
       "    <tr>\n",
       "      <th>0</th>\n",
       "      <td>One of the other reviewers has mentioned that ...</td>\n",
       "      <td>positive</td>\n",
       "    </tr>\n",
       "    <tr>\n",
       "      <th>1</th>\n",
       "      <td>A wonderful little production. &lt;br /&gt;&lt;br /&gt;The...</td>\n",
       "      <td>positive</td>\n",
       "    </tr>\n",
       "    <tr>\n",
       "      <th>2</th>\n",
       "      <td>I thought this was a wonderful way to spend ti...</td>\n",
       "      <td>positive</td>\n",
       "    </tr>\n",
       "    <tr>\n",
       "      <th>3</th>\n",
       "      <td>Basically there's a family where a little boy ...</td>\n",
       "      <td>negative</td>\n",
       "    </tr>\n",
       "    <tr>\n",
       "      <th>4</th>\n",
       "      <td>Petter Mattei's \"Love in the Time of Money\" is...</td>\n",
       "      <td>positive</td>\n",
       "    </tr>\n",
       "  </tbody>\n",
       "</table>\n",
       "</div>"
      ],
      "text/plain": [
       "                                              review sentiment\n",
       "0  One of the other reviewers has mentioned that ...  positive\n",
       "1  A wonderful little production. <br /><br />The...  positive\n",
       "2  I thought this was a wonderful way to spend ti...  positive\n",
       "3  Basically there's a family where a little boy ...  negative\n",
       "4  Petter Mattei's \"Love in the Time of Money\" is...  positive"
      ]
     },
     "execution_count": 2,
     "metadata": {},
     "output_type": "execute_result"
    }
   ],
   "source": [
    "imdb_df = pd.read_csv('IMDB Dataset.csv')\n",
    "imdb_df.head()"
   ]
  },
  {
   "cell_type": "code",
   "execution_count": 3,
   "id": "d901998c",
   "metadata": {},
   "outputs": [
    {
     "data": {
      "text/plain": [
       "positive    25000\n",
       "negative    25000\n",
       "Name: sentiment, dtype: int64"
      ]
     },
     "execution_count": 3,
     "metadata": {},
     "output_type": "execute_result"
    }
   ],
   "source": [
    "imdb_df.sentiment.value_counts()"
   ]
  },
  {
   "cell_type": "code",
   "execution_count": 4,
   "id": "e63b338f",
   "metadata": {},
   "outputs": [],
   "source": [
    "imdb_reviews = imdb_df['review'].tolist()\n",
    "\n",
    "imdb_df['total_line'] = [len(word.split()) for word in imdb_reviews]\n",
    "imdb_df['line_number'] = [word[0] for word in enumerate(imdb_reviews)]"
   ]
  },
  {
   "cell_type": "code",
   "execution_count": 5,
   "id": "9b13c03c",
   "metadata": {},
   "outputs": [
    {
     "data": {
      "text/html": [
       "<div>\n",
       "<style scoped>\n",
       "    .dataframe tbody tr th:only-of-type {\n",
       "        vertical-align: middle;\n",
       "    }\n",
       "\n",
       "    .dataframe tbody tr th {\n",
       "        vertical-align: top;\n",
       "    }\n",
       "\n",
       "    .dataframe thead th {\n",
       "        text-align: right;\n",
       "    }\n",
       "</style>\n",
       "<table border=\"1\" class=\"dataframe\">\n",
       "  <thead>\n",
       "    <tr style=\"text-align: right;\">\n",
       "      <th></th>\n",
       "      <th>review</th>\n",
       "      <th>sentiment</th>\n",
       "      <th>total_line</th>\n",
       "      <th>line_number</th>\n",
       "    </tr>\n",
       "  </thead>\n",
       "  <tbody>\n",
       "    <tr>\n",
       "      <th>0</th>\n",
       "      <td>One of the other reviewers has mentioned that ...</td>\n",
       "      <td>positive</td>\n",
       "      <td>307</td>\n",
       "      <td>0</td>\n",
       "    </tr>\n",
       "    <tr>\n",
       "      <th>1</th>\n",
       "      <td>A wonderful little production. &lt;br /&gt;&lt;br /&gt;The...</td>\n",
       "      <td>positive</td>\n",
       "      <td>162</td>\n",
       "      <td>1</td>\n",
       "    </tr>\n",
       "    <tr>\n",
       "      <th>2</th>\n",
       "      <td>I thought this was a wonderful way to spend ti...</td>\n",
       "      <td>positive</td>\n",
       "      <td>166</td>\n",
       "      <td>2</td>\n",
       "    </tr>\n",
       "    <tr>\n",
       "      <th>3</th>\n",
       "      <td>Basically there's a family where a little boy ...</td>\n",
       "      <td>negative</td>\n",
       "      <td>138</td>\n",
       "      <td>3</td>\n",
       "    </tr>\n",
       "    <tr>\n",
       "      <th>4</th>\n",
       "      <td>Petter Mattei's \"Love in the Time of Money\" is...</td>\n",
       "      <td>positive</td>\n",
       "      <td>230</td>\n",
       "      <td>4</td>\n",
       "    </tr>\n",
       "  </tbody>\n",
       "</table>\n",
       "</div>"
      ],
      "text/plain": [
       "                                              review sentiment  total_line  \\\n",
       "0  One of the other reviewers has mentioned that ...  positive         307   \n",
       "1  A wonderful little production. <br /><br />The...  positive         162   \n",
       "2  I thought this was a wonderful way to spend ti...  positive         166   \n",
       "3  Basically there's a family where a little boy ...  negative         138   \n",
       "4  Petter Mattei's \"Love in the Time of Money\" is...  positive         230   \n",
       "\n",
       "   line_number  \n",
       "0            0  \n",
       "1            1  \n",
       "2            2  \n",
       "3            3  \n",
       "4            4  "
      ]
     },
     "execution_count": 5,
     "metadata": {},
     "output_type": "execute_result"
    }
   ],
   "source": [
    "imdb_df.head()"
   ]
  },
  {
   "cell_type": "code",
   "execution_count": 6,
   "id": "a236fd48",
   "metadata": {},
   "outputs": [],
   "source": [
    "imdb_df['sentiment'] = imdb_df['sentiment'].replace({'positive', 'negative'}, {1,0})"
   ]
  },
  {
   "cell_type": "code",
   "execution_count": 7,
   "id": "6250057a",
   "metadata": {},
   "outputs": [
    {
     "data": {
      "text/html": [
       "<div>\n",
       "<style scoped>\n",
       "    .dataframe tbody tr th:only-of-type {\n",
       "        vertical-align: middle;\n",
       "    }\n",
       "\n",
       "    .dataframe tbody tr th {\n",
       "        vertical-align: top;\n",
       "    }\n",
       "\n",
       "    .dataframe thead th {\n",
       "        text-align: right;\n",
       "    }\n",
       "</style>\n",
       "<table border=\"1\" class=\"dataframe\">\n",
       "  <thead>\n",
       "    <tr style=\"text-align: right;\">\n",
       "      <th></th>\n",
       "      <th>review</th>\n",
       "      <th>sentiment</th>\n",
       "      <th>total_line</th>\n",
       "      <th>line_number</th>\n",
       "    </tr>\n",
       "  </thead>\n",
       "  <tbody>\n",
       "    <tr>\n",
       "      <th>0</th>\n",
       "      <td>One of the other reviewers has mentioned that ...</td>\n",
       "      <td>0</td>\n",
       "      <td>307</td>\n",
       "      <td>0</td>\n",
       "    </tr>\n",
       "    <tr>\n",
       "      <th>1</th>\n",
       "      <td>A wonderful little production. &lt;br /&gt;&lt;br /&gt;The...</td>\n",
       "      <td>0</td>\n",
       "      <td>162</td>\n",
       "      <td>1</td>\n",
       "    </tr>\n",
       "    <tr>\n",
       "      <th>2</th>\n",
       "      <td>I thought this was a wonderful way to spend ti...</td>\n",
       "      <td>0</td>\n",
       "      <td>166</td>\n",
       "      <td>2</td>\n",
       "    </tr>\n",
       "    <tr>\n",
       "      <th>3</th>\n",
       "      <td>Basically there's a family where a little boy ...</td>\n",
       "      <td>1</td>\n",
       "      <td>138</td>\n",
       "      <td>3</td>\n",
       "    </tr>\n",
       "    <tr>\n",
       "      <th>4</th>\n",
       "      <td>Petter Mattei's \"Love in the Time of Money\" is...</td>\n",
       "      <td>0</td>\n",
       "      <td>230</td>\n",
       "      <td>4</td>\n",
       "    </tr>\n",
       "  </tbody>\n",
       "</table>\n",
       "</div>"
      ],
      "text/plain": [
       "                                              review  sentiment  total_line  \\\n",
       "0  One of the other reviewers has mentioned that ...          0         307   \n",
       "1  A wonderful little production. <br /><br />The...          0         162   \n",
       "2  I thought this was a wonderful way to spend ti...          0         166   \n",
       "3  Basically there's a family where a little boy ...          1         138   \n",
       "4  Petter Mattei's \"Love in the Time of Money\" is...          0         230   \n",
       "\n",
       "   line_number  \n",
       "0            0  \n",
       "1            1  \n",
       "2            2  \n",
       "3            3  \n",
       "4            4  "
      ]
     },
     "execution_count": 7,
     "metadata": {},
     "output_type": "execute_result"
    }
   ],
   "source": [
    "imdb_df.head()"
   ]
  },
  {
   "cell_type": "code",
   "execution_count": 8,
   "id": "87fcc803",
   "metadata": {},
   "outputs": [],
   "source": [
    "from numpy.random import RandomState\n",
    "\n",
    "rng = RandomState()\n",
    "\n",
    "train_df = imdb_df.sample(frac=0.7, random_state=rng)\n",
    "val_df = imdb_df.loc[~imdb_df.index.isin(train_df.index)]"
   ]
  },
  {
   "cell_type": "code",
   "execution_count": 9,
   "id": "c3a3c38f",
   "metadata": {},
   "outputs": [
    {
     "data": {
      "text/plain": [
       "(35000, 15000)"
      ]
     },
     "execution_count": 9,
     "metadata": {},
     "output_type": "execute_result"
    }
   ],
   "source": [
    "len(train_df), len(val_df)"
   ]
  },
  {
   "cell_type": "code",
   "execution_count": 10,
   "id": "75d06f39",
   "metadata": {},
   "outputs": [],
   "source": [
    "train_sentences = train_df['review'].tolist()\n",
    "val_sentences = val_df['review'].tolist()"
   ]
  },
  {
   "cell_type": "code",
   "execution_count": 11,
   "id": "d1f918fe",
   "metadata": {},
   "outputs": [],
   "source": [
    "from sklearn.preprocessing import OneHotEncoder\n",
    "one_hot_encoder = OneHotEncoder(sparse=False)\n",
    "train_labels_one_hot = one_hot_encoder.fit_transform(train_df['sentiment'].to_numpy().reshape(-1,1))\n",
    "val_labels_one_hot = one_hot_encoder.fit_transform(val_df['sentiment'].to_numpy().reshape(-1,1))"
   ]
  },
  {
   "cell_type": "code",
   "execution_count": 12,
   "id": "6114fad3",
   "metadata": {},
   "outputs": [
    {
     "data": {
      "text/plain": [
       "array([0, 0, 1, ..., 1, 0, 0], dtype=int64)"
      ]
     },
     "execution_count": 12,
     "metadata": {},
     "output_type": "execute_result"
    }
   ],
   "source": [
    "from sklearn.preprocessing import LabelEncoder\n",
    "label_encoder = LabelEncoder()\n",
    "train_labels_encoded = label_encoder.fit_transform(train_df['sentiment'].to_numpy())\n",
    "val_labels_encoded = label_encoder.fit_transform(val_df['sentiment'].to_numpy())\n",
    "\n",
    "train_labels_encoded"
   ]
  },
  {
   "cell_type": "code",
   "execution_count": 13,
   "id": "4a4728b1",
   "metadata": {},
   "outputs": [
    {
     "data": {
      "text/html": [
       "<style>#sk-container-id-1 {color: black;background-color: white;}#sk-container-id-1 pre{padding: 0;}#sk-container-id-1 div.sk-toggleable {background-color: white;}#sk-container-id-1 label.sk-toggleable__label {cursor: pointer;display: block;width: 100%;margin-bottom: 0;padding: 0.3em;box-sizing: border-box;text-align: center;}#sk-container-id-1 label.sk-toggleable__label-arrow:before {content: \"▸\";float: left;margin-right: 0.25em;color: #696969;}#sk-container-id-1 label.sk-toggleable__label-arrow:hover:before {color: black;}#sk-container-id-1 div.sk-estimator:hover label.sk-toggleable__label-arrow:before {color: black;}#sk-container-id-1 div.sk-toggleable__content {max-height: 0;max-width: 0;overflow: hidden;text-align: left;background-color: #f0f8ff;}#sk-container-id-1 div.sk-toggleable__content pre {margin: 0.2em;color: black;border-radius: 0.25em;background-color: #f0f8ff;}#sk-container-id-1 input.sk-toggleable__control:checked~div.sk-toggleable__content {max-height: 200px;max-width: 100%;overflow: auto;}#sk-container-id-1 input.sk-toggleable__control:checked~label.sk-toggleable__label-arrow:before {content: \"▾\";}#sk-container-id-1 div.sk-estimator input.sk-toggleable__control:checked~label.sk-toggleable__label {background-color: #d4ebff;}#sk-container-id-1 div.sk-label input.sk-toggleable__control:checked~label.sk-toggleable__label {background-color: #d4ebff;}#sk-container-id-1 input.sk-hidden--visually {border: 0;clip: rect(1px 1px 1px 1px);clip: rect(1px, 1px, 1px, 1px);height: 1px;margin: -1px;overflow: hidden;padding: 0;position: absolute;width: 1px;}#sk-container-id-1 div.sk-estimator {font-family: monospace;background-color: #f0f8ff;border: 1px dotted black;border-radius: 0.25em;box-sizing: border-box;margin-bottom: 0.5em;}#sk-container-id-1 div.sk-estimator:hover {background-color: #d4ebff;}#sk-container-id-1 div.sk-parallel-item::after {content: \"\";width: 100%;border-bottom: 1px solid gray;flex-grow: 1;}#sk-container-id-1 div.sk-label:hover label.sk-toggleable__label {background-color: #d4ebff;}#sk-container-id-1 div.sk-serial::before {content: \"\";position: absolute;border-left: 1px solid gray;box-sizing: border-box;top: 0;bottom: 0;left: 50%;z-index: 0;}#sk-container-id-1 div.sk-serial {display: flex;flex-direction: column;align-items: center;background-color: white;padding-right: 0.2em;padding-left: 0.2em;position: relative;}#sk-container-id-1 div.sk-item {position: relative;z-index: 1;}#sk-container-id-1 div.sk-parallel {display: flex;align-items: stretch;justify-content: center;background-color: white;position: relative;}#sk-container-id-1 div.sk-item::before, #sk-container-id-1 div.sk-parallel-item::before {content: \"\";position: absolute;border-left: 1px solid gray;box-sizing: border-box;top: 0;bottom: 0;left: 50%;z-index: -1;}#sk-container-id-1 div.sk-parallel-item {display: flex;flex-direction: column;z-index: 1;position: relative;background-color: white;}#sk-container-id-1 div.sk-parallel-item:first-child::after {align-self: flex-end;width: 50%;}#sk-container-id-1 div.sk-parallel-item:last-child::after {align-self: flex-start;width: 50%;}#sk-container-id-1 div.sk-parallel-item:only-child::after {width: 0;}#sk-container-id-1 div.sk-dashed-wrapped {border: 1px dashed gray;margin: 0 0.4em 0.5em 0.4em;box-sizing: border-box;padding-bottom: 0.4em;background-color: white;}#sk-container-id-1 div.sk-label label {font-family: monospace;font-weight: bold;display: inline-block;line-height: 1.2em;}#sk-container-id-1 div.sk-label-container {text-align: center;}#sk-container-id-1 div.sk-container {/* jupyter's `normalize.less` sets `[hidden] { display: none; }` but bootstrap.min.css set `[hidden] { display: none !important; }` so we also need the `!important` here to be able to override the default hidden behavior on the sphinx rendered scikit-learn.org. See: https://github.com/scikit-learn/scikit-learn/issues/21755 */display: inline-block !important;position: relative;}#sk-container-id-1 div.sk-text-repr-fallback {display: none;}</style><div id=\"sk-container-id-1\" class=\"sk-top-container\"><div class=\"sk-text-repr-fallback\"><pre>Pipeline(steps=[(&#x27;tf-idf&#x27;, TfidfVectorizer()), (&#x27;clf&#x27;, MultinomialNB())])</pre><b>In a Jupyter environment, please rerun this cell to show the HTML representation or trust the notebook. <br />On GitHub, the HTML representation is unable to render, please try loading this page with nbviewer.org.</b></div><div class=\"sk-container\" hidden><div class=\"sk-item sk-dashed-wrapped\"><div class=\"sk-label-container\"><div class=\"sk-label sk-toggleable\"><input class=\"sk-toggleable__control sk-hidden--visually\" id=\"sk-estimator-id-1\" type=\"checkbox\" ><label for=\"sk-estimator-id-1\" class=\"sk-toggleable__label sk-toggleable__label-arrow\">Pipeline</label><div class=\"sk-toggleable__content\"><pre>Pipeline(steps=[(&#x27;tf-idf&#x27;, TfidfVectorizer()), (&#x27;clf&#x27;, MultinomialNB())])</pre></div></div></div><div class=\"sk-serial\"><div class=\"sk-item\"><div class=\"sk-estimator sk-toggleable\"><input class=\"sk-toggleable__control sk-hidden--visually\" id=\"sk-estimator-id-2\" type=\"checkbox\" ><label for=\"sk-estimator-id-2\" class=\"sk-toggleable__label sk-toggleable__label-arrow\">TfidfVectorizer</label><div class=\"sk-toggleable__content\"><pre>TfidfVectorizer()</pre></div></div></div><div class=\"sk-item\"><div class=\"sk-estimator sk-toggleable\"><input class=\"sk-toggleable__control sk-hidden--visually\" id=\"sk-estimator-id-3\" type=\"checkbox\" ><label for=\"sk-estimator-id-3\" class=\"sk-toggleable__label sk-toggleable__label-arrow\">MultinomialNB</label><div class=\"sk-toggleable__content\"><pre>MultinomialNB()</pre></div></div></div></div></div></div></div>"
      ],
      "text/plain": [
       "Pipeline(steps=[('tf-idf', TfidfVectorizer()), ('clf', MultinomialNB())])"
      ]
     },
     "execution_count": 13,
     "metadata": {},
     "output_type": "execute_result"
    }
   ],
   "source": [
    "from sklearn.naive_bayes import MultinomialNB\n",
    "from sklearn.feature_extraction.text import TfidfVectorizer\n",
    "from sklearn.pipeline import Pipeline\n",
    "\n",
    "model_0 = Pipeline([\n",
    "    ('tf-idf', TfidfVectorizer()),\n",
    "    ('clf', MultinomialNB())\n",
    "])\n",
    "\n",
    "model_0.fit(\n",
    "    train_sentences,\n",
    "    train_labels_encoded\n",
    ")"
   ]
  },
  {
   "cell_type": "code",
   "execution_count": 14,
   "id": "45dfa4b7",
   "metadata": {},
   "outputs": [
    {
     "data": {
      "text/plain": [
       "0.8680666666666667"
      ]
     },
     "execution_count": 14,
     "metadata": {},
     "output_type": "execute_result"
    }
   ],
   "source": [
    "model_0.score(val_sentences, val_labels_encoded)"
   ]
  },
  {
   "cell_type": "code",
   "execution_count": 15,
   "id": "3e591f77",
   "metadata": {},
   "outputs": [
    {
     "data": {
      "text/plain": [
       "array([0, 0, 1, ..., 1, 0, 1], dtype=int64)"
      ]
     },
     "execution_count": 15,
     "metadata": {},
     "output_type": "execute_result"
    }
   ],
   "source": [
    "baseline_preds = model_0.predict(val_sentences)\n",
    "baseline_preds"
   ]
  },
  {
   "cell_type": "code",
   "execution_count": 16,
   "id": "aa375573",
   "metadata": {},
   "outputs": [],
   "source": [
    "from sklearn.metrics import accuracy_score, precision_recall_fscore_support\n",
    "\n",
    "def calculate_results(y_true, y_pred):\n",
    "    model_accuracy = accuracy_score(y_true, y_pred) * 100\n",
    "    model_precision, model_recall, model_f1, _ = precision_recall_fscore_support(y_true, y_pred, average='weighted')\n",
    "    model_results = {\n",
    "        \"accuracy\":model_accuracy,\n",
    "        \"precision\":model_precision,\n",
    "        \"recall\":model_recall,\n",
    "        \"f1-score\":model_f1\n",
    "    }\n",
    "    return model_results"
   ]
  },
  {
   "cell_type": "code",
   "execution_count": 17,
   "id": "d3f7c694",
   "metadata": {},
   "outputs": [
    {
     "data": {
      "text/plain": [
       "{'accuracy': 86.80666666666667,\n",
       " 'precision': 0.8686197340101557,\n",
       " 'recall': 0.8680666666666667,\n",
       " 'f1-score': 0.8679882463152516}"
      ]
     },
     "execution_count": 17,
     "metadata": {},
     "output_type": "execute_result"
    }
   ],
   "source": [
    "baseline_results = calculate_results(val_labels_encoded, baseline_preds)\n",
    "baseline_results"
   ]
  },
  {
   "cell_type": "code",
   "execution_count": 18,
   "id": "95e041c8",
   "metadata": {},
   "outputs": [
    {
     "data": {
      "text/plain": [
       "231.0"
      ]
     },
     "execution_count": 18,
     "metadata": {},
     "output_type": "execute_result"
    }
   ],
   "source": [
    "#Model-1\n",
    "\n",
    "sent_lens = [len(sentence.split()) for sentence in train_sentences]\n",
    "avg_sent_len = np.round(np.mean(sent_lens))\n",
    "avg_sent_len"
   ]
  },
  {
   "cell_type": "code",
   "execution_count": 19,
   "id": "f6203c22",
   "metadata": {},
   "outputs": [
    {
     "data": {
      "text/plain": [
       "(array([1.5469e+04, 1.2205e+04, 4.0420e+03, 1.7170e+03, 8.0400e+02,\n",
       "        4.3400e+02, 3.0300e+02, 1.1000e+01, 3.0000e+00, 3.0000e+00,\n",
       "        3.0000e+00, 2.0000e+00, 1.0000e+00, 2.0000e+00, 1.0000e+00]),\n",
       " array([   8.        ,  159.33333333,  310.66666667,  462.        ,\n",
       "         613.33333333,  764.66666667,  916.        , 1067.33333333,\n",
       "        1218.66666667, 1370.        , 1521.33333333, 1672.66666667,\n",
       "        1824.        , 1975.33333333, 2126.66666667, 2278.        ]),\n",
       " <BarContainer object of 15 artists>)"
      ]
     },
     "execution_count": 19,
     "metadata": {},
     "output_type": "execute_result"
    },
    {
     "data": {
      "image/png": "[encoded data removed]",
      "text/plain": [
       "<Figure size 640x480 with 1 Axes>"
      ]
     },
     "metadata": {},
     "output_type": "display_data"
    }
   ],
   "source": [
    "plt.hist(sent_lens, bins=15)"
   ]
  },
  {
   "cell_type": "code",
   "execution_count": 20,
   "id": "a0b9ba20",
   "metadata": {},
   "outputs": [
    {
     "data": {
      "text/plain": [
       "591"
      ]
     },
     "execution_count": 20,
     "metadata": {},
     "output_type": "execute_result"
    }
   ],
   "source": [
    "output_seq_len = int(np.percentile(sent_lens, 95))\n",
    "output_seq_len"
   ]
  },
  {
   "cell_type": "code",
   "execution_count": 21,
   "id": "bf68781d",
   "metadata": {},
   "outputs": [],
   "source": [
    "max_tokens = 68000\n",
    "\n",
    "text_vectorizer = tf.keras.layers.TextVectorization(\n",
    "    max_tokens=max_tokens,\n",
    "    output_sequence_length=output_seq_len,\n",
    "    pad_to_max_tokens=True\n",
    ")\n",
    "\n",
    "text_vectorizer.adapt(train_sentences)"
   ]
  },
  {
   "cell_type": "code",
   "execution_count": 22,
   "id": "dd5125ec",
   "metadata": {},
   "outputs": [
    {
     "name": "stdout",
     "output_type": "stream",
     "text": [
      "Text:\n",
      " didn't sound like it was from a fantasy film. The film is dark, with dark overtones. The soundtrack way too uplifting to the point it intruded on the visuals. I'm sure they were aiming for something militant, but it just didn't work. The scene when Astin is attempting to escape is a perfect example. Why does it sound like the Goonies? There is no comedy, there is no brightness to this!! <br /><br />The idea of the movie is great, and the acting is very good as well. I enjoyed everyone's performances. It's available on Netflix's online viewing. <br /><br />Definitely worth a viewing, but write your own soundtrack!!\n",
      "\n",
      "Length of text: 621\n",
      "\n",
      "Vectorized text: [[  150   449    39     9    14    36     4  1072    20     2    20     7\n",
      "    442    16   442  8687     2   719    97   101  4868     6     2   222\n",
      "      9 48140    21     2  1995   142   247    35    66  6351    17   138\n",
      "  16893    19     9    41   150   164     2   131    51 13284     7  2851\n",
      "      6  1014     7     4   399   470   132   122     9   449    39     2\n",
      "  20477    48     7    55   214    48     7    55 20676     6    11    13\n",
      "     13     2   316     5     2    18     7    79     3     2   112     7\n",
      "     53    50    15    74    10   502  3810   361    30  1192    21     1\n",
      "   4537   813    13    13   392   264     4   813    19   914   123   199\n",
      "    719     0     0     0     0     0     0     0     0     0     0     0\n",
      "      0     0     0     0     0     0     0     0     0     0     0     0\n",
      "      0     0     0     0     0     0     0     0     0     0     0     0\n",
      "      0     0     0     0     0     0     0     0     0     0     0     0\n",
      "      0     0     0     0     0     0     0     0     0     0     0     0\n",
      "      0     0     0     0     0     0     0     0     0     0     0     0\n",
      "      0     0     0     0     0     0     0     0     0     0     0     0\n",
      "      0     0     0     0     0     0     0     0     0     0     0     0\n",
      "      0     0     0     0     0     0     0     0     0     0     0     0\n",
      "      0     0     0     0     0     0     0     0     0     0     0     0\n",
      "      0     0     0     0     0     0     0     0     0     0     0     0\n",
      "      0     0     0     0     0     0     0     0     0     0     0     0\n",
      "      0     0     0     0     0     0     0     0     0     0     0     0\n",
      "      0     0     0     0     0     0     0     0     0     0     0     0\n",
      "      0     0     0     0     0     0     0     0     0     0     0     0\n",
      "      0     0     0     0     0     0     0     0     0     0     0     0\n",
      "      0     0     0     0     0     0     0     0     0     0     0     0\n",
      "      0     0     0     0     0     0     0     0     0     0     0     0\n",
      "      0     0     0     0     0     0     0     0     0     0     0     0\n",
      "      0     0     0     0     0     0     0     0     0     0     0     0\n",
      "      0     0     0     0     0     0     0     0     0     0     0     0\n",
      "      0     0     0     0     0     0     0     0     0     0     0     0\n",
      "      0     0     0     0     0     0     0     0     0     0     0     0\n",
      "      0     0     0     0     0     0     0     0     0     0     0     0\n",
      "      0     0     0     0     0     0     0     0     0     0     0     0\n",
      "      0     0     0     0     0     0     0     0     0     0     0     0\n",
      "      0     0     0     0     0     0     0     0     0     0     0     0\n",
      "      0     0     0     0     0     0     0     0     0     0     0     0\n",
      "      0     0     0     0     0     0     0     0     0     0     0     0\n",
      "      0     0     0     0     0     0     0     0     0     0     0     0\n",
      "      0     0     0     0     0     0     0     0     0     0     0     0\n",
      "      0     0     0     0     0     0     0     0     0     0     0     0\n",
      "      0     0     0     0     0     0     0     0     0     0     0     0\n",
      "      0     0     0     0     0     0     0     0     0     0     0     0\n",
      "      0     0     0     0     0     0     0     0     0     0     0     0\n",
      "      0     0     0     0     0     0     0     0     0     0     0     0\n",
      "      0     0     0     0     0     0     0     0     0     0     0     0\n",
      "      0     0     0     0     0     0     0     0     0     0     0     0\n",
      "      0     0     0     0     0     0     0     0     0     0     0     0\n",
      "      0     0     0     0     0     0     0     0     0     0     0     0\n",
      "      0     0     0]]\n"
     ]
    }
   ],
   "source": [
    "import random\n",
    "target_sentence = random.choice(train_sentences)\n",
    "print(f\"Text:\\n {target_sentence}\")\n",
    "print(f\"\\nLength of text: {len(target_sentence)}\")\n",
    "print(f\"\\nVectorized text: {text_vectorizer([target_sentence])}\")"
   ]
  },
  {
   "cell_type": "code",
   "execution_count": 23,
   "id": "f19d6f82",
   "metadata": {},
   "outputs": [
    {
     "data": {
      "text/plain": [
       "{'name': 'text_vectorization',\n",
       " 'trainable': True,\n",
       " 'batch_input_shape': (None,),\n",
       " 'dtype': 'string',\n",
       " 'max_tokens': 68000,\n",
       " 'standardize': 'lower_and_strip_punctuation',\n",
       " 'split': 'whitespace',\n",
       " 'ngrams': None,\n",
       " 'output_mode': 'int',\n",
       " 'output_sequence_length': 591,\n",
       " 'pad_to_max_tokens': True}"
      ]
     },
     "execution_count": 23,
     "metadata": {},
     "output_type": "execute_result"
    }
   ],
   "source": [
    "text_vectorizer.get_config()"
   ]
  },
  {
   "cell_type": "code",
   "execution_count": 24,
   "id": "b03caffd",
   "metadata": {},
   "outputs": [],
   "source": [
    "token_embed = tf.keras.layers.Embedding(\n",
    "    input_dim = 68000,\n",
    "    output_dim = 128,\n",
    "    mask_zero=True,\n",
    "    name='token_embedding'\n",
    ")"
   ]
  },
  {
   "cell_type": "code",
   "execution_count": 25,
   "id": "841a80c6",
   "metadata": {},
   "outputs": [
    {
     "name": "stdout",
     "output_type": "stream",
     "text": [
      "Sentence before vectorization:\n",
      " didn't sound like it was from a fantasy film. The film is dark, with dark overtones. The soundtrack way too uplifting to the point it intruded on the visuals. I'm sure they were aiming for something militant, but it just didn't work. The scene when Astin is attempting to escape is a perfect example. Why does it sound like the Goonies? There is no comedy, there is no brightness to this!! <br /><br />The idea of the movie is great, and the acting is very good as well. I enjoyed everyone's performances. It's available on Netflix's online viewing. <br /><br />Definitely worth a viewing, but write your own soundtrack!!\n",
      "\n",
      "Sentence after vectorization (before embedding):\n",
      " [[  150   449    39     9    14    36     4  1072    20     2    20     7\n",
      "    442    16   442  8687     2   719    97   101  4868     6     2   222\n",
      "      9 48140    21     2  1995   142   247    35    66  6351    17   138\n",
      "  16893    19     9    41   150   164     2   131    51 13284     7  2851\n",
      "      6  1014     7     4   399   470   132   122     9   449    39     2\n",
      "  20477    48     7    55   214    48     7    55 20676     6    11    13\n",
      "     13     2   316     5     2    18     7    79     3     2   112     7\n",
      "     53    50    15    74    10   502  3810   361    30  1192    21     1\n",
      "   4537   813    13    13   392   264     4   813    19   914   123   199\n",
      "    719     0     0     0     0     0     0     0     0     0     0     0\n",
      "      0     0     0     0     0     0     0     0     0     0     0     0\n",
      "      0     0     0     0     0     0     0     0     0     0     0     0\n",
      "      0     0     0     0     0     0     0     0     0     0     0     0\n",
      "      0     0     0     0     0     0     0     0     0     0     0     0\n",
      "      0     0     0     0     0     0     0     0     0     0     0     0\n",
      "      0     0     0     0     0     0     0     0     0     0     0     0\n",
      "      0     0     0     0     0     0     0     0     0     0     0     0\n",
      "      0     0     0     0     0     0     0     0     0     0     0     0\n",
      "      0     0     0     0     0     0     0     0     0     0     0     0\n",
      "      0     0     0     0     0     0     0     0     0     0     0     0\n",
      "      0     0     0     0     0     0     0     0     0     0     0     0\n",
      "      0     0     0     0     0     0     0     0     0     0     0     0\n",
      "      0     0     0     0     0     0     0     0     0     0     0     0\n",
      "      0     0     0     0     0     0     0     0     0     0     0     0\n",
      "      0     0     0     0     0     0     0     0     0     0     0     0\n",
      "      0     0     0     0     0     0     0     0     0     0     0     0\n",
      "      0     0     0     0     0     0     0     0     0     0     0     0\n",
      "      0     0     0     0     0     0     0     0     0     0     0     0\n",
      "      0     0     0     0     0     0     0     0     0     0     0     0\n",
      "      0     0     0     0     0     0     0     0     0     0     0     0\n",
      "      0     0     0     0     0     0     0     0     0     0     0     0\n",
      "      0     0     0     0     0     0     0     0     0     0     0     0\n",
      "      0     0     0     0     0     0     0     0     0     0     0     0\n",
      "      0     0     0     0     0     0     0     0     0     0     0     0\n",
      "      0     0     0     0     0     0     0     0     0     0     0     0\n",
      "      0     0     0     0     0     0     0     0     0     0     0     0\n",
      "      0     0     0     0     0     0     0     0     0     0     0     0\n",
      "      0     0     0     0     0     0     0     0     0     0     0     0\n",
      "      0     0     0     0     0     0     0     0     0     0     0     0\n",
      "      0     0     0     0     0     0     0     0     0     0     0     0\n",
      "      0     0     0     0     0     0     0     0     0     0     0     0\n",
      "      0     0     0     0     0     0     0     0     0     0     0     0\n",
      "      0     0     0     0     0     0     0     0     0     0     0     0\n",
      "      0     0     0     0     0     0     0     0     0     0     0     0\n",
      "      0     0     0     0     0     0     0     0     0     0     0     0\n",
      "      0     0     0     0     0     0     0     0     0     0     0     0\n",
      "      0     0     0     0     0     0     0     0     0     0     0     0\n",
      "      0     0     0     0     0     0     0     0     0     0     0     0\n",
      "      0     0     0     0     0     0     0     0     0     0     0     0\n",
      "      0     0     0]]\n",
      "\n",
      "Vectorized sentence shape: (1, 591)\n",
      "\n",
      "Sentence after embedding:\n",
      " [[[-0.00834485  0.01391781  0.01175356 ... -0.0090006  -0.04550073\n",
      "   -0.03506433]\n",
      "  [-0.04358875  0.02537001  0.04670331 ... -0.04497809 -0.00455417\n",
      "    0.00577487]\n",
      "  [-0.04130447  0.00621771 -0.02741489 ... -0.03137896  0.01849406\n",
      "   -0.02695822]\n",
      "  ...\n",
      "  [ 0.04103383  0.03300149  0.00131921 ...  0.02014214 -0.00736277\n",
      "    0.01970797]\n",
      "  [ 0.04103383  0.03300149  0.00131921 ...  0.02014214 -0.00736277\n",
      "    0.01970797]\n",
      "  [ 0.04103383  0.03300149  0.00131921 ...  0.02014214 -0.00736277\n",
      "    0.01970797]]]\n",
      "\n",
      "Embedded sentence shape: (1, 591, 128)\n"
     ]
    }
   ],
   "source": [
    "print(f\"Sentence before vectorization:\\n {target_sentence}\\n\")\n",
    "vectorized_sentence = text_vectorizer([target_sentence])\n",
    "print(f\"Sentence after vectorization (before embedding):\\n {vectorized_sentence}\\n\")\n",
    "print(f\"Vectorized sentence shape: {vectorized_sentence.shape}\\n\")\n",
    "embedded_sentence = token_embed(vectorized_sentence)\n",
    "print(f\"Sentence after embedding:\\n {embedded_sentence}\\n\")\n",
    "print(f\"Embedded sentence shape: {embedded_sentence.shape}\")"
   ]
  },
  {
   "cell_type": "code",
   "execution_count": 26,
   "id": "04e8adee",
   "metadata": {},
   "outputs": [
    {
     "data": {
      "text/plain": [
       "(<TensorSliceDataset shapes: ((), (2,)), types: (tf.string, tf.float64)>,\n",
       " <TensorSliceDataset shapes: ((), (2,)), types: (tf.string, tf.float64)>)"
      ]
     },
     "execution_count": 26,
     "metadata": {},
     "output_type": "execute_result"
    }
   ],
   "source": [
    "train_dataset = tf.data.Dataset.from_tensor_slices((train_sentences, train_labels_one_hot))\n",
    "val_dataset = tf.data.Dataset.from_tensor_slices((val_sentences, val_labels_one_hot))\n",
    "\n",
    "train_dataset, val_dataset"
   ]
  },
  {
   "cell_type": "code",
   "execution_count": 27,
   "id": "2f1a9977",
   "metadata": {},
   "outputs": [],
   "source": [
    "train_dataset = train_dataset.batch(32).prefetch(tf.data.AUTOTUNE)\n",
    "val_dataset = val_dataset.batch(32).prefetch(tf.data.AUTOTUNE)"
   ]
  },
  {
   "cell_type": "code",
   "execution_count": 28,
   "id": "9533811c",
   "metadata": {},
   "outputs": [],
   "source": [
    "inputs = layers.Input(shape=(1,), dtype=tf.string)\n",
    "x = text_vectorizer(inputs)\n",
    "x = token_embed(x)\n",
    "x = layers.Conv1D(64, 5, activation='relu')(x)\n",
    "x = layers.GlobalAveragePooling1D()(x)\n",
    "outputs = layers.Dense(2, activation='softmax')(x)\n",
    "model_1 = tf.keras.Model(inputs, outputs, name='model_1_Conv1D_token')\n",
    "\n",
    "model_1.compile(\n",
    "    loss='categorical_crossentropy',\n",
    "    optimizer=tf.keras.optimizers.Adam(),\n",
    "    metrics=['accuracy']\n",
    ")"
   ]
  },
  {
   "cell_type": "code",
   "execution_count": 29,
   "id": "e2500165",
   "metadata": {},
   "outputs": [
    {
     "name": "stdout",
     "output_type": "stream",
     "text": [
      "Model: \"model_1_Conv1D_token\"\n",
      "_________________________________________________________________\n",
      "Layer (type)                 Output Shape              Param #   \n",
      "=================================================================\n",
      "input_1 (InputLayer)         [(None, 1)]               0         \n",
      "_________________________________________________________________\n",
      "text_vectorization (TextVect (None, 591)               0         \n",
      "_________________________________________________________________\n",
      "token_embedding (Embedding)  (None, 591, 128)          8704000   \n",
      "_________________________________________________________________\n",
      "conv1d (Conv1D)              (None, 587, 64)           41024     \n",
      "_________________________________________________________________\n",
      "global_average_pooling1d (Gl (None, 64)                0         \n",
      "_________________________________________________________________\n",
      "dense (Dense)                (None, 2)                 130       \n",
      "=================================================================\n",
      "Total params: 8,745,154\n",
      "Trainable params: 8,745,154\n",
      "Non-trainable params: 0\n",
      "_________________________________________________________________\n"
     ]
    }
   ],
   "source": [
    "model_1.summary()"
   ]
  },
  {
   "cell_type": "code",
   "execution_count": 30,
   "id": "6d1a33da",
   "metadata": {},
   "outputs": [
    {
     "name": "stdout",
     "output_type": "stream",
     "text": [
      "Epoch 1/5\n",
      "109/109 [==============================] - 10s 35ms/step - loss: 0.6664 - accuracy: 0.6064 - val_loss: 0.5641 - val_accuracy: 0.7765\n",
      "Epoch 2/5\n",
      "109/109 [==============================] - 4s 34ms/step - loss: 0.4323 - accuracy: 0.8417 - val_loss: 0.3520 - val_accuracy: 0.8641\n",
      "Epoch 3/5\n",
      "109/109 [==============================] - 4s 33ms/step - loss: 0.3473 - accuracy: 0.8615 - val_loss: 0.3047 - val_accuracy: 0.8886\n",
      "Epoch 4/5\n",
      "109/109 [==============================] - 4s 33ms/step - loss: 0.3080 - accuracy: 0.8784 - val_loss: 0.3005 - val_accuracy: 0.8818\n",
      "Epoch 5/5\n",
      "109/109 [==============================] - 4s 33ms/step - loss: 0.2928 - accuracy: 0.8847 - val_loss: 0.2976 - val_accuracy: 0.8886\n"
     ]
    }
   ],
   "source": [
    "model_1_history = model_1.fit(\n",
    "    train_dataset,\n",
    "    steps_per_epoch=int(0.1 * len(train_dataset)),\n",
    "    epochs=5,\n",
    "    validation_data=val_dataset,\n",
    "    validation_steps=int(0.1*len(val_dataset))\n",
    ")"
   ]
  },
  {
   "cell_type": "code",
   "execution_count": 31,
   "id": "7e67e623",
   "metadata": {},
   "outputs": [
    {
     "name": "stdout",
     "output_type": "stream",
     "text": [
      "469/469 [==============================] - 4s 9ms/step - loss: 0.2979 - accuracy: 0.8844\n"
     ]
    },
    {
     "data": {
      "text/plain": [
       "[0.29791155457496643, 0.8844000101089478]"
      ]
     },
     "execution_count": 31,
     "metadata": {},
     "output_type": "execute_result"
    }
   ],
   "source": [
    "model_1.evaluate(val_dataset)"
   ]
  },
  {
   "cell_type": "code",
   "execution_count": 32,
   "id": "d649fa0c",
   "metadata": {},
   "outputs": [
    {
     "data": {
      "text/plain": [
       "array([[0.9109726 , 0.08902743],\n",
       "       [0.9284943 , 0.07150576],\n",
       "       [0.28505626, 0.71494377],\n",
       "       ...,\n",
       "       [0.00241265, 0.9975873 ],\n",
       "       [0.95520484, 0.04479516],\n",
       "       [0.17301579, 0.8269842 ]], dtype=float32)"
      ]
     },
     "execution_count": 32,
     "metadata": {},
     "output_type": "execute_result"
    }
   ],
   "source": [
    "model_1_pred_probs = model_1.predict(val_dataset)\n",
    "model_1_pred_probs"
   ]
  },
  {
   "cell_type": "code",
   "execution_count": 33,
   "id": "77283ac0",
   "metadata": {},
   "outputs": [
    {
     "data": {
      "text/plain": [
       "<tf.Tensor: shape=(15000,), dtype=int64, numpy=array([0, 0, 1, ..., 1, 0, 1], dtype=int64)>"
      ]
     },
     "execution_count": 33,
     "metadata": {},
     "output_type": "execute_result"
    }
   ],
   "source": [
    "model_1_preds = tf.argmax(model_1_pred_probs, axis=1)\n",
    "model_1_preds"
   ]
  },
  {
   "cell_type": "code",
   "execution_count": 34,
   "id": "cdcf8ac4",
   "metadata": {},
   "outputs": [
    {
     "data": {
      "text/plain": [
       "{'accuracy': 88.44,\n",
       " 'precision': 0.8888401526570356,\n",
       " 'recall': 0.8844,\n",
       " 'f1-score': 0.8841333727041757}"
      ]
     },
     "execution_count": 34,
     "metadata": {},
     "output_type": "execute_result"
    }
   ],
   "source": [
    "model_1_results = calculate_results(val_labels_encoded, model_1_preds)\n",
    "model_1_results"
   ]
  },
  {
   "cell_type": "code",
   "execution_count": 35,
   "id": "a11d6cb1",
   "metadata": {},
   "outputs": [
    {
     "data": {
      "text/plain": [
       "{'accuracy': 86.80666666666667,\n",
       " 'precision': 0.8686197340101557,\n",
       " 'recall': 0.8680666666666667,\n",
       " 'f1-score': 0.8679882463152516}"
      ]
     },
     "execution_count": 35,
     "metadata": {},
     "output_type": "execute_result"
    }
   ],
   "source": [
    "baseline_results"
   ]
  },
  {
   "cell_type": "code",
   "execution_count": 36,
   "id": "9b5886af",
   "metadata": {},
   "outputs": [],
   "source": [
    "#Model_2\n",
    "\n",
    "import tensorflow_hub as hub\n",
    "\n",
    "uni_sentence_encoder = hub.KerasLayer('https://tfhub.dev/google/universal-sentence-encoder/4',\n",
    "                                     name='uni_sentence_encoder')"
   ]
  },
  {
   "cell_type": "code",
   "execution_count": 37,
   "id": "54931d8b",
   "metadata": {},
   "outputs": [
    {
     "name": "stdout",
     "output_type": "stream",
     "text": [
      "Random sentence:\n",
      " This is a great film Classic from the 40's and well produced. There are very dramatic scenes in this film with John Garfield,(Al Schmid),\"Force of Evil\",'48 and Dane Clark,(Lee Diamond),\"Last Rites\",'88, fighting the Japs during WWII being completely surrounded and with only one machine-gun. When Al Schmid was able to go home after being wounded with a horrible injury, his problems just started to begin with his family and engaged girl friend. Dane Clark gave an outstanding supporting role as Lee Diamond, who did everything to help his buddy Al get his life together again. There is never a complete victory to War and lets not forget all the Brave Wounded Military personnel in Veterans Hospitals from All the Wars and our present Iraq Vets!\n",
      "Sentence after embedding:\n",
      " [-0.01456863 -0.01505403  0.02806196 -0.00085736  0.03347155  0.00501772\n",
      " -0.04448452 -0.03030549  0.0560262  -0.01013866  0.07323448 -0.0406712\n",
      "  0.03109628  0.02802359  0.06962666 -0.07294684 -0.06993462  0.06344642\n",
      " -0.01176346  0.00757125 -0.00068056 -0.06634611  0.07415763  0.01294018\n",
      "  0.01771094  0.06394601 -0.02999887 -0.06816733  0.05079754  0.07358213]\n",
      "Length of sentence embedding: 512\n"
     ]
    }
   ],
   "source": [
    "random_train_sentence = random.choice(train_sentences)\n",
    "print(f\"Random sentence:\\n {random_train_sentence}\")\n",
    "use_embedded_sentence = uni_sentence_encoder([random_train_sentence])\n",
    "print(f\"Sentence after embedding:\\n {use_embedded_sentence[0][:30]}\")\n",
    "print(f\"Length of sentence embedding: {len(use_embedded_sentence[0])}\")"
   ]
  },
  {
   "cell_type": "code",
   "execution_count": 38,
   "id": "3b04abb3",
   "metadata": {},
   "outputs": [],
   "source": [
    "inputs = layers.Input(shape=[], dtype=tf.string)\n",
    "pretrained_embedding = uni_sentence_encoder(inputs)\n",
    "x = layers.Dense(128, activation='relu')(pretrained_embedding)\n",
    "outputs = layers.Dense(2, activation='softmax')(x)\n",
    "model_2 = tf.keras.Model(inputs, outputs, name='model_2_USE')\n",
    "\n",
    "model_2.compile(\n",
    "    optimizer=tf.keras.optimizers.Adam(),\n",
    "    loss='categorical_crossentropy',\n",
    "    metrics=['accuracy']\n",
    ")"
   ]
  },
  {
   "cell_type": "code",
   "execution_count": 39,
   "id": "f9464107",
   "metadata": {},
   "outputs": [
    {
     "name": "stdout",
     "output_type": "stream",
     "text": [
      "Model: \"model_2_USE\"\n",
      "_________________________________________________________________\n",
      "Layer (type)                 Output Shape              Param #   \n",
      "=================================================================\n",
      "input_2 (InputLayer)         [(None,)]                 0         \n",
      "_________________________________________________________________\n",
      "uni_sentence_encoder (KerasL (None, 512)               256797824 \n",
      "_________________________________________________________________\n",
      "dense_1 (Dense)              (None, 128)               65664     \n",
      "_________________________________________________________________\n",
      "dense_2 (Dense)              (None, 2)                 258       \n",
      "=================================================================\n",
      "Total params: 256,863,746\n",
      "Trainable params: 65,922\n",
      "Non-trainable params: 256,797,824\n",
      "_________________________________________________________________\n"
     ]
    }
   ],
   "source": [
    "model_2.summary()"
   ]
  },
  {
   "cell_type": "code",
   "execution_count": 40,
   "id": "0d949b3c",
   "metadata": {},
   "outputs": [
    {
     "name": "stdout",
     "output_type": "stream",
     "text": [
      "Epoch 1/5\n",
      "109/109 [==============================] - 11s 82ms/step - loss: 0.4924 - accuracy: 0.7964 - val_loss: 0.3778 - val_accuracy: 0.8410\n",
      "Epoch 2/5\n",
      "109/109 [==============================] - 8s 71ms/step - loss: 0.3440 - accuracy: 0.8538 - val_loss: 0.3464 - val_accuracy: 0.8492\n",
      "Epoch 3/5\n",
      "109/109 [==============================] - 8s 71ms/step - loss: 0.3439 - accuracy: 0.8420 - val_loss: 0.3402 - val_accuracy: 0.8594\n",
      "Epoch 4/5\n",
      "109/109 [==============================] - 8s 70ms/step - loss: 0.3401 - accuracy: 0.8521 - val_loss: 0.3512 - val_accuracy: 0.8431\n",
      "Epoch 5/5\n",
      "109/109 [==============================] - 8s 73ms/step - loss: 0.3372 - accuracy: 0.8503 - val_loss: 0.3385 - val_accuracy: 0.8546\n"
     ]
    }
   ],
   "source": [
    "model_2_history = model_2.fit(\n",
    "    train_dataset,\n",
    "    steps_per_epoch=int(0.1 * len(train_dataset)),\n",
    "    validation_data = val_dataset,\n",
    "    epochs=5,\n",
    "    validation_steps = int(0.1 * len(val_dataset))\n",
    ")"
   ]
  },
  {
   "cell_type": "code",
   "execution_count": 41,
   "id": "d7687981",
   "metadata": {},
   "outputs": [
    {
     "name": "stdout",
     "output_type": "stream",
     "text": [
      "469/469 [==============================] - 24s 50ms/step - loss: 0.3344 - accuracy: 0.8562\n"
     ]
    },
    {
     "data": {
      "text/plain": [
       "[0.33438241481781006, 0.8561999797821045]"
      ]
     },
     "execution_count": 41,
     "metadata": {},
     "output_type": "execute_result"
    }
   ],
   "source": [
    "model_2.evaluate(val_dataset)"
   ]
  },
  {
   "cell_type": "code",
   "execution_count": 42,
   "id": "7f2cf973",
   "metadata": {},
   "outputs": [
    {
     "data": {
      "text/plain": [
       "array([[0.8211173 , 0.17888267],\n",
       "       [0.82968974, 0.17031029],\n",
       "       [0.14761953, 0.8523805 ],\n",
       "       ...,\n",
       "       [0.00436683, 0.9956332 ],\n",
       "       [0.57684296, 0.42315704],\n",
       "       [0.06875284, 0.9312471 ]], dtype=float32)"
      ]
     },
     "execution_count": 42,
     "metadata": {},
     "output_type": "execute_result"
    }
   ],
   "source": [
    "model_2_pred_probs = model_2.predict(val_dataset)\n",
    "model_2_pred_probs"
   ]
  },
  {
   "cell_type": "code",
   "execution_count": 43,
   "id": "62903597",
   "metadata": {},
   "outputs": [
    {
     "data": {
      "text/plain": [
       "<tf.Tensor: shape=(15000,), dtype=int64, numpy=array([0, 0, 1, ..., 1, 0, 1], dtype=int64)>"
      ]
     },
     "execution_count": 43,
     "metadata": {},
     "output_type": "execute_result"
    }
   ],
   "source": [
    "model_2_preds = tf.argmax(model_2_pred_probs, axis=1)\n",
    "model_2_preds"
   ]
  },
  {
   "cell_type": "code",
   "execution_count": 44,
   "id": "b548f930",
   "metadata": {},
   "outputs": [
    {
     "data": {
      "text/plain": [
       "{'accuracy': 85.61999999999999,\n",
       " 'precision': 0.8574103694053761,\n",
       " 'recall': 0.8562,\n",
       " 'f1-score': 0.856122924135613}"
      ]
     },
     "execution_count": 44,
     "metadata": {},
     "output_type": "execute_result"
    }
   ],
   "source": [
    "model_2_results = calculate_results(val_labels_encoded, model_2_preds)\n",
    "model_2_results"
   ]
  },
  {
   "cell_type": "code",
   "execution_count": 45,
   "id": "a8af85b2",
   "metadata": {},
   "outputs": [],
   "source": [
    "#Model-3\n",
    "\n",
    "def split_chars(text):\n",
    "    return \" \".join(list(text))"
   ]
  },
  {
   "cell_type": "code",
   "execution_count": 46,
   "id": "6411e4d3",
   "metadata": {},
   "outputs": [
    {
     "data": {
      "text/plain": [
       "'T h i s   i s   a   g r e a t   f i l m   C l a s s i c   f r o m   t h e   4 0 \\' s   a n d   w e l l   p r o d u c e d .   T h e r e   a r e   v e r y   d r a m a t i c   s c e n e s   i n   t h i s   f i l m   w i t h   J o h n   G a r f i e l d , ( A l   S c h m i d ) , \" F o r c e   o f   E v i l \" , \\' 4 8   a n d   D a n e   C l a r k , ( L e e   D i a m o n d ) , \" L a s t   R i t e s \" , \\' 8 8 ,   f i g h t i n g   t h e   J a p s   d u r i n g   W W I I   b e i n g   c o m p l e t e l y   s u r r o u n d e d   a n d   w i t h   o n l y   o n e   m a c h i n e - g u n .   W h e n   A l   S c h m i d   w a s   a b l e   t o   g o   h o m e   a f t e r   b e i n g   w o u n d e d   w i t h   a   h o r r i b l e   i n j u r y ,   h i s   p r o b l e m s   j u s t   s t a r t e d   t o   b e g i n   w i t h   h i s   f a m i l y   a n d   e n g a g e d   g i r l   f r i e n d .   D a n e   C l a r k   g a v e   a n   o u t s t a n d i n g   s u p p o r t i n g   r o l e   a s   L e e   D i a m o n d ,   w h o   d i d   e v e r y t h i n g   t o   h e l p   h i s   b u d d y   A l   g e t   h i s   l i f e   t o g e t h e r   a g a i n .   T h e r e   i s   n e v e r   a   c o m p l e t e   v i c t o r y   t o   W a r   a n d   l e t s   n o t   f o r g e t   a l l   t h e   B r a v e   W o u n d e d   M i l i t a r y   p e r s o n n e l   i n   V e t e r a n s   H o s p i t a l s   f r o m   A l l   t h e   W a r s   a n d   o u r   p r e s e n t   I r a q   V e t s !'"
      ]
     },
     "execution_count": 46,
     "metadata": {},
     "output_type": "execute_result"
    }
   ],
   "source": [
    "split_chars(random_train_sentence)"
   ]
  },
  {
   "cell_type": "code",
   "execution_count": 47,
   "id": "b32174ee",
   "metadata": {},
   "outputs": [],
   "source": [
    "train_chars = [split_chars(sentence) for sentence in train_sentences]\n",
    "val_chars = [split_chars(sentence) for sentence in val_sentences]"
   ]
  },
  {
   "cell_type": "code",
   "execution_count": 48,
   "id": "a44bbdeb",
   "metadata": {},
   "outputs": [
    {
     "data": {
      "text/plain": [
       "2615.5225714285716"
      ]
     },
     "execution_count": 48,
     "metadata": {},
     "output_type": "execute_result"
    }
   ],
   "source": [
    "chars_len = [len(letter) for letter in train_chars]\n",
    "mean_char_len = np.mean(chars_len)\n",
    "mean_char_len"
   ]
  },
  {
   "cell_type": "code",
   "execution_count": 49,
   "id": "aa36b20b",
   "metadata": {},
   "outputs": [
    {
     "data": {
      "text/plain": [
       "(array([1.5851e+04, 1.1798e+04, 4.0430e+03, 1.7190e+03, 8.1800e+02,\n",
       "        4.4500e+02, 2.8800e+02, 1.8000e+01, 8.0000e+00, 3.0000e+00,\n",
       "        4.0000e+00, 2.0000e+00, 0.0000e+00, 0.0000e+00, 3.0000e+00]),\n",
       " array([   81.        ,  1807.26666667,  3533.53333333,  5259.8       ,\n",
       "         6986.06666667,  8712.33333333, 10438.6       , 12164.86666667,\n",
       "        13891.13333333, 15617.4       , 17343.66666667, 19069.93333333,\n",
       "        20796.2       , 22522.46666667, 24248.73333333, 25975.        ]),\n",
       " <BarContainer object of 15 artists>)"
      ]
     },
     "execution_count": 49,
     "metadata": {},
     "output_type": "execute_result"
    },
    {
     "data": {
      "image/png": "[encoded data removed]",
      "text/plain": [
       "<Figure size 640x480 with 1 Axes>"
      ]
     },
     "metadata": {},
     "output_type": "display_data"
    }
   ],
   "source": [
    "plt.hist(chars_len, bins=15)"
   ]
  },
  {
   "cell_type": "code",
   "execution_count": 50,
   "id": "4b8026a3",
   "metadata": {},
   "outputs": [
    {
     "data": {
      "text/plain": [
       "6761"
      ]
     },
     "execution_count": 50,
     "metadata": {},
     "output_type": "execute_result"
    }
   ],
   "source": [
    "output_seq_char_len = int(np.percentile(chars_len, 95))\n",
    "output_seq_char_len"
   ]
  },
  {
   "cell_type": "code",
   "execution_count": 51,
   "id": "7fada0c6",
   "metadata": {},
   "outputs": [
    {
     "data": {
      "text/plain": [
       "'abcdefghijklmnopqrstuvwxyz0123456789!\"#$%&\\'()*+,-./:;<=>?@[\\\\]^_`{|}~'"
      ]
     },
     "execution_count": 51,
     "metadata": {},
     "output_type": "execute_result"
    }
   ],
   "source": [
    "import string\n",
    "alphabet = string.ascii_lowercase + string.digits + string.punctuation\n",
    "alphabet"
   ]
  },
  {
   "cell_type": "code",
   "execution_count": 52,
   "id": "ed28a212",
   "metadata": {},
   "outputs": [],
   "source": [
    "NUM_CHAR_TOKENS = len(alphabet)\n",
    "char_vectorizer = tf.keras.layers.TextVectorization(\n",
    "    max_tokens=NUM_CHAR_TOKENS,\n",
    "    output_sequence_length=output_seq_char_len,\n",
    "    name='char_vectorizer'\n",
    ")\n",
    "\n",
    "char_vectorizer.adapt(train_chars)"
   ]
  },
  {
   "cell_type": "code",
   "execution_count": 53,
   "id": "1c3203be",
   "metadata": {},
   "outputs": [
    {
     "data": {
      "text/plain": [
       "{'name': 'char_vectorizer',\n",
       " 'trainable': True,\n",
       " 'batch_input_shape': (None,),\n",
       " 'dtype': 'string',\n",
       " 'max_tokens': 68,\n",
       " 'standardize': 'lower_and_strip_punctuation',\n",
       " 'split': 'whitespace',\n",
       " 'ngrams': None,\n",
       " 'output_mode': 'int',\n",
       " 'output_sequence_length': 6761,\n",
       " 'pad_to_max_tokens': False}"
      ]
     },
     "execution_count": 53,
     "metadata": {},
     "output_type": "execute_result"
    }
   ],
   "source": [
    "char_vectorizer.get_config()"
   ]
  },
  {
   "cell_type": "code",
   "execution_count": 54,
   "id": "a6aac30c",
   "metadata": {},
   "outputs": [
    {
     "name": "stdout",
     "output_type": "stream",
     "text": [
      "Charified text:\n",
      " I   a g r e e   w i t h   m o s t   o f   M r .   R i v e r a ' s   c o m m e n t s ,   a n d   I   j u s t   w a n t   t o   a d   a   c o u p l e   o f   c a v e a t s .   T h i s   f i l m ,   \" T h e   M a s c o t \"   i s   c r i m i n a l l y   n e g l e c t e d   i n   i t s   c u r r e n t   f o r m .   F o r   t h a t   m a t t e r ,   s o   i s   \" V a m p y r \" .   \" T h e   M a s c o t \"   i s n ' t   a   \" b o n u s   f e a t u r e \" - -   i t ' s   t a c k e d   o n   a s   a   c h a p t e r   i n   \" V a m p y r \" .   E v e n   t h o u g h   i t ' s   m a d e   v e r y   c l e a r   t h a t   t h i s   i s   a   s e p a r a t e   m o v i e ,   i t   s h o u l d   h a v e   b e e n   t r e a t e d   a s   s u c h   b y   t h e   m a n u f a c t u r e r s .   A n d   w h i l e   I \" m   a t   i t ,   \" V a m p y r \"   n e e d s   s o m e   o f   t h a t   s a m e   r e s p e c t   a n d   c l e a n i n g   u p   a s   w e l l .   I   g o t   t h e   f e e l i n g   t h e   d e c i s i o n   t o   p u t   T h e   M a s c o t   o n   t h e r e   w e n t   s o m e t h i n g   l i k e   t h i s . < b r   / > < b r   / > D u d e   A :   \" W e   j u s t   t r a n s f e r r e d   V a m p y r   t o   D V D ,   b u t   i t   c o m e s   u p   a b o u t   2 0   m i n u t e s   s h o r t .   W e   n e e d   t o   p u t   s o m e t h i n g   o n   t h e r e   t h a t   w o n ' t   c o s t   m u c h   m o n e y .   C a n   y o u   b e l i e v e   f i l m   c r i t i c s   w a n t   t o   b e   p a i d   t o   t a l k   a b o u t   f i l m s ! \"   D u d e   B :   \" N o t   t o   w o r r y .   I   h a v e   t h i s   l i t t l e   a n i m a t i o n   t h i n g y   t h a t ' s   b e e n   s i t t i n g   i n   m y   d r a w e r .   J u s t   g o   a h e a d   a n d   t h r o w   i t   o n   a s   a n   a d d i t i o n a l   c h a p t e r . \"   D u d e   A :   \" Y o u ' r e   a w e s o m e ,   D u d e   B . \"   T h e   a n i m a t i o n ' s   o f   T h e   M a s c o t   i s   g r e a t ,   a n d   t h e r e ' s   n o   n e e d   f o r   m e   t o   r e p e a t   w h a t   M r .   R i v e r a ' s   d o n e   s o   w e l l .   H o w e v e r ,   t h i s   t h i n g   n e e d s   s o m e   m a j o r   c l e a n i n g   a n d   r e s t o r i n g ,   e s p e c i a l l y   t h e   a u d i o .   T h e   p l o t   c o m e s   t h r o u g h   i n   t h e   d i a l o g u e .   A n d   i n   m y   c o p y   t h e r e   w e r e   s o   m a n y   h i s s e s ,   p o p s   a n d   p l a c e s   w h e r e   t h e   s o u n d   j u s t   d r o p p e d   r i g h t   o f f   ( I   w o u l d   h a v e   h a d   n o   i d e a   w h a t   t h e   d o g   w a s   g o i n g   a f t e r   w i t h o u t   h a v i n g   r e a d   t h e   b o x ) .   N o   a m o u n t   o f   v o l u m e   w a s   g o i n g   t o   m a k e   t h e   w o r d s   m o r e   u n d e r s t a n d a b l e ,   i t   j u s t   b r o u g h t   u p   t h e   t i n n i n e s s   a n d   m a d e   t h e   h i s s e s   a n d   p o p s   l o u d e r . < b r   / > < b r   / > B o t t o m   l i n e   i s :   S t a r e w i c z ' s   f i l m s   n e e d   t o   b e   p u t   i n t o   a   r e s p e c t f u l   c o l l e c t i o n ,   c l e a n e d   u p ,   s p i f f e d   u p ,   l i n e r   n o t e s   a n d   t h e   w h o l e   n i n e   y a r d s .   I n   o t h e r   w o r d s ,   t h e y   n e e d   t o   b e   \" C r i t e r i o n i z e d \"   9   o u t   o f   1 0   f o r   t h e   m o v i e ,   n o t   t h e   p r o d u c t   w h i c h   w o u l d   g e t   o n l y   a   5 .\n",
      "Length of random_train_chars: 1462\n",
      "\\Vectorized chars:\n",
      " [[ 5  4 17 ...  0  0  0]]\n",
      "Vectorized chars shape: (1, 6761)\n",
      "\n",
      "Length of vectorized chars: 6761\n"
     ]
    }
   ],
   "source": [
    "random_train_chars = random.choice(train_chars)\n",
    "print(f\"Charified text:\\n {random_train_chars}\")\n",
    "print(f\"Length of random_train_chars: {len(random_train_chars.split())}\")\n",
    "vectorized_chars = char_vectorizer([random_train_chars])\n",
    "print(f\"\\Vectorized chars:\\n {vectorized_chars}\")\n",
    "print(f\"Vectorized chars shape: {vectorized_chars.shape}\")\n",
    "print(f\"\\nLength of vectorized chars: {len(vectorized_chars[0])}\")"
   ]
  },
  {
   "cell_type": "code",
   "execution_count": 55,
   "id": "b471b106",
   "metadata": {},
   "outputs": [],
   "source": [
    "char_embed = layers.Embedding(\n",
    "    input_dim=28,\n",
    "    output_dim=25,\n",
    "    mask_zero=True,\n",
    "    name='char_embed'\n",
    ")"
   ]
  },
  {
   "cell_type": "code",
   "execution_count": 56,
   "id": "c03c6266",
   "metadata": {},
   "outputs": [
    {
     "name": "stdout",
     "output_type": "stream",
     "text": [
      "Charified text: I   a g r e e   w i t h   m o s t   o f   M r .   R i v e r a ' s   c o m m e n t s ,   a n d   I   j u s t   w a n t   t o   a d   a   c o u p l e   o f   c a v e a t s .   T h i s   f i l m ,   \" T h e   M a s c o t \"   i s   c r i m i n a l l y   n e g l e c t e d   i n   i t s   c u r r e n t   f o r m .   F o r   t h a t   m a t t e r ,   s o   i s   \" V a m p y r \" .   \" T h e   M a s c o t \"   i s n ' t   a   \" b o n u s   f e a t u r e \" - -   i t ' s   t a c k e d   o n   a s   a   c h a p t e r   i n   \" V a m p y r \" .   E v e n   t h o u g h   i t ' s   m a d e   v e r y   c l e a r   t h a t   t h i s   i s   a   s e p a r a t e   m o v i e ,   i t   s h o u l d   h a v e   b e e n   t r e a t e d   a s   s u c h   b y   t h e   m a n u f a c t u r e r s .   A n d   w h i l e   I \" m   a t   i t ,   \" V a m p y r \"   n e e d s   s o m e   o f   t h a t   s a m e   r e s p e c t   a n d   c l e a n i n g   u p   a s   w e l l .   I   g o t   t h e   f e e l i n g   t h e   d e c i s i o n   t o   p u t   T h e   M a s c o t   o n   t h e r e   w e n t   s o m e t h i n g   l i k e   t h i s . < b r   / > < b r   / > D u d e   A :   \" W e   j u s t   t r a n s f e r r e d   V a m p y r   t o   D V D ,   b u t   i t   c o m e s   u p   a b o u t   2 0   m i n u t e s   s h o r t .   W e   n e e d   t o   p u t   s o m e t h i n g   o n   t h e r e   t h a t   w o n ' t   c o s t   m u c h   m o n e y .   C a n   y o u   b e l i e v e   f i l m   c r i t i c s   w a n t   t o   b e   p a i d   t o   t a l k   a b o u t   f i l m s ! \"   D u d e   B :   \" N o t   t o   w o r r y .   I   h a v e   t h i s   l i t t l e   a n i m a t i o n   t h i n g y   t h a t ' s   b e e n   s i t t i n g   i n   m y   d r a w e r .   J u s t   g o   a h e a d   a n d   t h r o w   i t   o n   a s   a n   a d d i t i o n a l   c h a p t e r . \"   D u d e   A :   \" Y o u ' r e   a w e s o m e ,   D u d e   B . \"   T h e   a n i m a t i o n ' s   o f   T h e   M a s c o t   i s   g r e a t ,   a n d   t h e r e ' s   n o   n e e d   f o r   m e   t o   r e p e a t   w h a t   M r .   R i v e r a ' s   d o n e   s o   w e l l .   H o w e v e r ,   t h i s   t h i n g   n e e d s   s o m e   m a j o r   c l e a n i n g   a n d   r e s t o r i n g ,   e s p e c i a l l y   t h e   a u d i o .   T h e   p l o t   c o m e s   t h r o u g h   i n   t h e   d i a l o g u e .   A n d   i n   m y   c o p y   t h e r e   w e r e   s o   m a n y   h i s s e s ,   p o p s   a n d   p l a c e s   w h e r e   t h e   s o u n d   j u s t   d r o p p e d   r i g h t   o f f   ( I   w o u l d   h a v e   h a d   n o   i d e a   w h a t   t h e   d o g   w a s   g o i n g   a f t e r   w i t h o u t   h a v i n g   r e a d   t h e   b o x ) .   N o   a m o u n t   o f   v o l u m e   w a s   g o i n g   t o   m a k e   t h e   w o r d s   m o r e   u n d e r s t a n d a b l e ,   i t   j u s t   b r o u g h t   u p   t h e   t i n n i n e s s   a n d   m a d e   t h e   h i s s e s   a n d   p o p s   l o u d e r . < b r   / > < b r   / > B o t t o m   l i n e   i s :   S t a r e w i c z ' s   f i l m s   n e e d   t o   b e   p u t   i n t o   a   r e s p e c t f u l   c o l l e c t i o n ,   c l e a n e d   u p ,   s p i f f e d   u p ,   l i n e r   n o t e s   a n d   t h e   w h o l e   n i n e   y a r d s .   I n   o t h e r   w o r d s ,   t h e y   n e e d   t o   b e   \" C r i t e r i o n i z e d \"   9   o u t   o f   1 0   f o r   t h e   m o v i e ,   n o t   t h e   p r o d u c t   w h i c h   w o u l d   g e t   o n l y   a   5 .\n",
      "\n",
      "Embedded chars:\n",
      " [[[ 0.03105613  0.01911689 -0.02166503 ...  0.03005434 -0.02014085\n",
      "   -0.00216196]\n",
      "  [ 0.03040409 -0.04037743  0.00837377 ...  0.01012316 -0.04370743\n",
      "   -0.00764588]\n",
      "  [-0.04302403 -0.02828456 -0.01122703 ... -0.02129253  0.03439678\n",
      "    0.03977311]\n",
      "  ...\n",
      "  [ 0.01128101 -0.04655538  0.0370529  ... -0.03844962  0.00244894\n",
      "   -0.01280661]\n",
      "  [ 0.01128101 -0.04655538  0.0370529  ... -0.03844962  0.00244894\n",
      "   -0.01280661]\n",
      "  [ 0.01128101 -0.04655538  0.0370529  ... -0.03844962  0.00244894\n",
      "   -0.01280661]]]\n",
      "Character embedding shape: (1, 6761, 25)\n"
     ]
    }
   ],
   "source": [
    "print(f\"Charified text: {random_train_chars}\\n\")\n",
    "char_embed_example = char_embed(char_vectorizer([random_train_chars]))\n",
    "print(f\"Embedded chars:\\n {char_embed_example}\")\n",
    "print(f\"Character embedding shape: {char_embed_example.shape}\")"
   ]
  },
  {
   "cell_type": "code",
   "execution_count": 57,
   "id": "5401c290",
   "metadata": {},
   "outputs": [],
   "source": [
    "val_char_dataset = tf.data.Dataset.from_tensor_slices((val_chars, val_labels_one_hot)).batch(32).prefetch(tf.data.AUTOTUNE)\n",
    "train_char_dataset = tf.data.Dataset.from_tensor_slices((train_chars, train_labels_one_hot)).batch(32).prefetch(tf.data.AUTOTUNE)"
   ]
  },
  {
   "cell_type": "code",
   "execution_count": 58,
   "id": "8c1e4b8a",
   "metadata": {},
   "outputs": [],
   "source": [
    "inputs = layers.Input(shape=(1,), dtype=tf.string)\n",
    "x = char_vectorizer(inputs)\n",
    "x = char_embed(x)\n",
    "x = layers.Conv1D(64, 5, activation='relu')(x)\n",
    "x = layers.GlobalMaxPooling1D()(x)\n",
    "outputs = layers.Dense(2, activation='softmax')(x)\n",
    "model_3 = tf.keras.Model(inputs, outputs, name='model_3_Conv1D_Char')\n",
    "\n",
    "model_3.compile(\n",
    "    optimizer=tf.keras.optimizers.Adam(),\n",
    "    loss='categorical_crossentropy',\n",
    "    metrics=['accuracy']\n",
    ")"
   ]
  },
  {
   "cell_type": "code",
   "execution_count": 59,
   "id": "1fa1aa82",
   "metadata": {},
   "outputs": [
    {
     "name": "stdout",
     "output_type": "stream",
     "text": [
      "Model: \"model_3_Conv1D_Char\"\n",
      "_________________________________________________________________\n",
      "Layer (type)                 Output Shape              Param #   \n",
      "=================================================================\n",
      "input_3 (InputLayer)         [(None, 1)]               0         \n",
      "_________________________________________________________________\n",
      "char_vectorizer (TextVectori (None, 6761)              0         \n",
      "_________________________________________________________________\n",
      "char_embed (Embedding)       (None, 6761, 25)          700       \n",
      "_________________________________________________________________\n",
      "conv1d_1 (Conv1D)            (None, 6757, 64)          8064      \n",
      "_________________________________________________________________\n",
      "global_max_pooling1d (Global (None, 64)                0         \n",
      "_________________________________________________________________\n",
      "dense_3 (Dense)              (None, 2)                 130       \n",
      "=================================================================\n",
      "Total params: 8,894\n",
      "Trainable params: 8,894\n",
      "Non-trainable params: 0\n",
      "_________________________________________________________________\n"
     ]
    }
   ],
   "source": [
    "model_3.summary()"
   ]
  },
  {
   "cell_type": "code",
   "execution_count": 60,
   "id": "a2667cc5",
   "metadata": {},
   "outputs": [
    {
     "name": "stdout",
     "output_type": "stream",
     "text": [
      "Epoch 1/5\n",
      "109/109 [==============================] - 8s 66ms/step - loss: 0.6911 - accuracy: 0.5258 - val_loss: 0.6932 - val_accuracy: 0.5034\n",
      "Epoch 2/5\n",
      "109/109 [==============================] - 7s 64ms/step - loss: 0.6762 - accuracy: 0.6101 - val_loss: 0.6933 - val_accuracy: 0.5054\n",
      "Epoch 3/5\n",
      "109/109 [==============================] - 7s 64ms/step - loss: 0.6431 - accuracy: 0.6944 - val_loss: 0.6930 - val_accuracy: 0.5143\n",
      "Epoch 4/5\n",
      "109/109 [==============================] - 7s 64ms/step - loss: 0.5847 - accuracy: 0.7388 - val_loss: 0.6919 - val_accuracy: 0.5333\n",
      "Epoch 5/5\n",
      "109/109 [==============================] - 7s 64ms/step - loss: 0.5358 - accuracy: 0.7526 - val_loss: 0.7049 - val_accuracy: 0.4871\n"
     ]
    }
   ],
   "source": [
    "model_3_history = model_3.fit(\n",
    "    train_char_dataset,\n",
    "    epochs=5,\n",
    "    steps_per_epoch=int(0.1 * len(train_char_dataset)),\n",
    "    validation_data=val_dataset,\n",
    "    validation_steps=int(0.1*len(val_char_dataset))\n",
    ")"
   ]
  },
  {
   "cell_type": "code",
   "execution_count": 61,
   "id": "93032a9d",
   "metadata": {},
   "outputs": [
    {
     "name": "stdout",
     "output_type": "stream",
     "text": [
      "469/469 [==============================] - 12s 27ms/step - loss: 0.5349 - accuracy: 0.7325\n"
     ]
    },
    {
     "data": {
      "text/plain": [
       "[0.5348772406578064, 0.7324666380882263]"
      ]
     },
     "execution_count": 61,
     "metadata": {},
     "output_type": "execute_result"
    }
   ],
   "source": [
    "model_3.evaluate(val_char_dataset)"
   ]
  },
  {
   "cell_type": "code",
   "execution_count": 62,
   "id": "3271317b",
   "metadata": {},
   "outputs": [
    {
     "data": {
      "text/plain": [
       "array([[0.59037524, 0.40962476],\n",
       "       [0.9028249 , 0.09717509],\n",
       "       [0.54453725, 0.45546278],\n",
       "       ...,\n",
       "       [0.23516947, 0.7648305 ],\n",
       "       [0.9357228 , 0.06427719],\n",
       "       [0.28971094, 0.71028906]], dtype=float32)"
      ]
     },
     "execution_count": 62,
     "metadata": {},
     "output_type": "execute_result"
    }
   ],
   "source": [
    "model_3_pred_probs = model_3.predict(val_char_dataset)\n",
    "model_3_pred_probs"
   ]
  },
  {
   "cell_type": "code",
   "execution_count": 63,
   "id": "f24384f4",
   "metadata": {},
   "outputs": [
    {
     "data": {
      "text/plain": [
       "<tf.Tensor: shape=(15000,), dtype=int64, numpy=array([0, 0, 0, ..., 1, 0, 1], dtype=int64)>"
      ]
     },
     "execution_count": 63,
     "metadata": {},
     "output_type": "execute_result"
    }
   ],
   "source": [
    "model_3_preds = tf.argmax(model_3_pred_probs, axis=1)\n",
    "model_3_preds"
   ]
  },
  {
   "cell_type": "code",
   "execution_count": 64,
   "id": "bb619d97",
   "metadata": {},
   "outputs": [
    {
     "data": {
      "text/plain": [
       "{'accuracy': 73.24666666666667,\n",
       " 'precision': 0.7678029806762598,\n",
       " 'recall': 0.7324666666666667,\n",
       " 'f1-score': 0.7240011074298828}"
      ]
     },
     "execution_count": 64,
     "metadata": {},
     "output_type": "execute_result"
    }
   ],
   "source": [
    "model_3_results = calculate_results(val_labels_encoded, model_3_preds)\n",
    "model_3_results"
   ]
  },
  {
   "cell_type": "code",
   "execution_count": 65,
   "id": "1e01a54f",
   "metadata": {},
   "outputs": [],
   "source": [
    "token_inputs = layers.Input(shape=[], dtype=tf.string, name='token_input')\n",
    "token_embeddings = uni_sentence_encoder(token_inputs)\n",
    "token_outputs = layers.Dense(128, activation='relu')(token_embeddings)\n",
    "token_model = tf.keras.Model(token_inputs, token_outputs)\n",
    "\n",
    "char_inputs = layers.Input(shape=(1,), dtype=tf.string)\n",
    "char_vectors = char_vectorizer(char_inputs)\n",
    "char_embeddings = char_embed(char_vectors)\n",
    "char_bi_lstm = layers.Bidirectional(layers.LSTM(24))(char_embeddings)\n",
    "char_model = tf.keras.Model(char_inputs, char_bi_lstm)\n",
    "\n",
    "token_char_concat = tf.keras.layers.Concatenate(name='token_char_hybrid')([token_model.output, char_model.output])\n",
    "\n",
    "combined_dropout = layers.Dropout(0.5)(token_char_concat)\n",
    "combined_dense = layers.Dense(128, activation='relu')(combined_dropout)\n",
    "final_dropout = layers.Dropout(0.5)(combined_dense)\n",
    "output_layer = layers.Dense(2, activation='softmax')(final_dropout)\n",
    "\n",
    "model_4 = tf.keras.Model(inputs=[token_model.input, char_model.input], outputs=output_layer, name='model_4_token_and_char_embeddings')"
   ]
  },
  {
   "cell_type": "code",
   "execution_count": 66,
   "id": "4a51b9cc",
   "metadata": {},
   "outputs": [
    {
     "name": "stdout",
     "output_type": "stream",
     "text": [
      "Model: \"model_4_token_and_char_embeddings\"\n",
      "__________________________________________________________________________________________________\n",
      "Layer (type)                    Output Shape         Param #     Connected to                     \n",
      "==================================================================================================\n",
      "input_4 (InputLayer)            [(None, 1)]          0                                            \n",
      "__________________________________________________________________________________________________\n",
      "token_input (InputLayer)        [(None,)]            0                                            \n",
      "__________________________________________________________________________________________________\n",
      "char_vectorizer (TextVectorizat (None, 6761)         0           input_4[0][0]                    \n",
      "__________________________________________________________________________________________________\n",
      "uni_sentence_encoder (KerasLaye (None, 512)          256797824   token_input[0][0]                \n",
      "__________________________________________________________________________________________________\n",
      "char_embed (Embedding)          (None, 6761, 25)     700         char_vectorizer[1][0]            \n",
      "__________________________________________________________________________________________________\n",
      "dense_4 (Dense)                 (None, 128)          65664       uni_sentence_encoder[1][0]       \n",
      "__________________________________________________________________________________________________\n",
      "bidirectional (Bidirectional)   (None, 48)           9600        char_embed[1][0]                 \n",
      "__________________________________________________________________________________________________\n",
      "token_char_hybrid (Concatenate) (None, 176)          0           dense_4[0][0]                    \n",
      "                                                                 bidirectional[0][0]              \n",
      "__________________________________________________________________________________________________\n",
      "dropout (Dropout)               (None, 176)          0           token_char_hybrid[0][0]          \n",
      "__________________________________________________________________________________________________\n",
      "dense_5 (Dense)                 (None, 128)          22656       dropout[0][0]                    \n",
      "__________________________________________________________________________________________________\n",
      "dropout_1 (Dropout)             (None, 128)          0           dense_5[0][0]                    \n",
      "__________________________________________________________________________________________________\n",
      "dense_6 (Dense)                 (None, 2)            258         dropout_1[0][0]                  \n",
      "==================================================================================================\n",
      "Total params: 256,896,702\n",
      "Trainable params: 98,878\n",
      "Non-trainable params: 256,797,824\n",
      "__________________________________________________________________________________________________\n"
     ]
    }
   ],
   "source": [
    "model_4.summary()"
   ]
  },
  {
   "cell_type": "code",
   "execution_count": 67,
   "id": "b06c158e",
   "metadata": {},
   "outputs": [],
   "source": [
    "model_4.compile(\n",
    "    loss='categorical_crossentropy',\n",
    "    optimizer=tf.keras.optimizers.Adam(),\n",
    "    metrics=['accuracy']\n",
    ")"
   ]
  },
  {
   "cell_type": "code",
   "execution_count": 68,
   "id": "661a4164",
   "metadata": {},
   "outputs": [],
   "source": [
    "train_char_token_data = tf.data.Dataset.from_tensor_slices((train_sentences, train_chars))\n",
    "train_char_token_labels = tf.data.Dataset.from_tensor_slices(train_labels_one_hot)\n",
    "train_char_token_dataset = tf.data.Dataset.zip((train_char_token_data, train_char_token_labels))\n",
    "\n",
    "train_char_token_dataset = train_char_token_dataset.batch(32).prefetch(tf.data.AUTOTUNE)\n",
    "\n",
    "val_char_token_data = tf.data.Dataset.from_tensor_slices((val_sentences, val_chars))\n",
    "val_char_token_labels = tf.data.Dataset.from_tensor_slices(val_labels_one_hot)\n",
    "val_char_token_dataset = tf.data.Dataset.zip((val_char_token_data, val_char_token_labels))\n",
    "\n",
    "val_char_token_dataset = val_char_token_dataset.batch(32).prefetch(tf.data.AUTOTUNE)"
   ]
  },
  {
   "cell_type": "code",
   "execution_count": 69,
   "id": "5815fad7",
   "metadata": {},
   "outputs": [
    {
     "data": {
      "text/plain": [
       "(<PrefetchDataset shapes: (((None,), (None,)), (None, 2)), types: ((tf.string, tf.string), tf.float64)>,\n",
       " <PrefetchDataset shapes: (((None,), (None,)), (None, 2)), types: ((tf.string, tf.string), tf.float64)>)"
      ]
     },
     "execution_count": 69,
     "metadata": {},
     "output_type": "execute_result"
    }
   ],
   "source": [
    "train_char_token_dataset, val_char_token_dataset"
   ]
  },
  {
   "cell_type": "code",
   "execution_count": 70,
   "id": "f0f17a76",
   "metadata": {},
   "outputs": [
    {
     "name": "stdout",
     "output_type": "stream",
     "text": [
      "Epoch 1/5\n",
      "109/109 [==============================] - 42s 285ms/step - loss: 0.5466 - accuracy: 0.7299 - val_loss: 0.3896 - val_accuracy: 0.8254\n",
      "Epoch 2/5\n",
      "109/109 [==============================] - 27s 247ms/step - loss: 0.3754 - accuracy: 0.8354 - val_loss: 0.3437 - val_accuracy: 0.8478\n",
      "Epoch 3/5\n",
      "109/109 [==============================] - 27s 248ms/step - loss: 0.3748 - accuracy: 0.8377 - val_loss: 0.3372 - val_accuracy: 0.8587\n",
      "Epoch 4/5\n",
      "109/109 [==============================] - 27s 244ms/step - loss: 0.3540 - accuracy: 0.8521 - val_loss: 0.3434 - val_accuracy: 0.8471\n",
      "Epoch 5/5\n",
      "109/109 [==============================] - 29s 262ms/step - loss: 0.3564 - accuracy: 0.8498 - val_loss: 0.3322 - val_accuracy: 0.8553\n"
     ]
    }
   ],
   "source": [
    "model_4_history = model_4.fit(\n",
    "    train_char_token_dataset,\n",
    "    steps_per_epoch=int(0.1*len(train_char_token_dataset)),\n",
    "    epochs=5,\n",
    "    validation_data = val_char_token_dataset,\n",
    "    validation_steps = int(0.1 * len(val_char_token_dataset))\n",
    ")"
   ]
  },
  {
   "cell_type": "code",
   "execution_count": 71,
   "id": "c4f23332",
   "metadata": {},
   "outputs": [
    {
     "name": "stdout",
     "output_type": "stream",
     "text": [
      "469/469 [==============================] - 46s 98ms/step - loss: 0.3310 - accuracy: 0.8565\n"
     ]
    },
    {
     "data": {
      "text/plain": [
       "[0.3309708535671234, 0.8564666509628296]"
      ]
     },
     "execution_count": 71,
     "metadata": {},
     "output_type": "execute_result"
    }
   ],
   "source": [
    "model_4.evaluate(val_char_token_dataset)"
   ]
  },
  {
   "cell_type": "code",
   "execution_count": 72,
   "id": "85287e66",
   "metadata": {},
   "outputs": [
    {
     "data": {
      "text/plain": [
       "array([[0.7774373 , 0.22256264],\n",
       "       [0.83999884, 0.16000117],\n",
       "       [0.09827329, 0.90172666],\n",
       "       ...,\n",
       "       [0.00285478, 0.99714524],\n",
       "       [0.596512  , 0.40348792],\n",
       "       [0.06597484, 0.93402517]], dtype=float32)"
      ]
     },
     "execution_count": 72,
     "metadata": {},
     "output_type": "execute_result"
    }
   ],
   "source": [
    "model_4_pred_probs = model_4.predict(val_char_token_dataset)\n",
    "model_4_pred_probs"
   ]
  },
  {
   "cell_type": "code",
   "execution_count": 73,
   "id": "8442f80b",
   "metadata": {},
   "outputs": [
    {
     "data": {
      "text/plain": [
       "<tf.Tensor: shape=(15000,), dtype=int64, numpy=array([0, 0, 1, ..., 1, 0, 1], dtype=int64)>"
      ]
     },
     "execution_count": 73,
     "metadata": {},
     "output_type": "execute_result"
    }
   ],
   "source": [
    "model_4_preds = tf.argmax(model_4_pred_probs, axis=1)\n",
    "model_4_preds"
   ]
  },
  {
   "cell_type": "code",
   "execution_count": 74,
   "id": "05f602da",
   "metadata": {},
   "outputs": [
    {
     "data": {
      "text/plain": [
       "{'accuracy': 85.64666666666668,\n",
       " 'precision': 0.8578505003409471,\n",
       " 'recall': 0.8564666666666667,\n",
       " 'f1-score': 0.856375597665237}"
      ]
     },
     "execution_count": 74,
     "metadata": {},
     "output_type": "execute_result"
    }
   ],
   "source": [
    "model_4_results = calculate_results(val_labels_encoded, model_4_preds)\n",
    "model_4_results"
   ]
  },
  {
   "cell_type": "code",
   "execution_count": 75,
   "id": "39914460",
   "metadata": {},
   "outputs": [
    {
     "data": {
      "text/html": [
       "<div>\n",
       "<style scoped>\n",
       "    .dataframe tbody tr th:only-of-type {\n",
       "        vertical-align: middle;\n",
       "    }\n",
       "\n",
       "    .dataframe tbody tr th {\n",
       "        vertical-align: top;\n",
       "    }\n",
       "\n",
       "    .dataframe thead th {\n",
       "        text-align: right;\n",
       "    }\n",
       "</style>\n",
       "<table border=\"1\" class=\"dataframe\">\n",
       "  <thead>\n",
       "    <tr style=\"text-align: right;\">\n",
       "      <th></th>\n",
       "      <th>review</th>\n",
       "      <th>sentiment</th>\n",
       "      <th>total_line</th>\n",
       "      <th>line_number</th>\n",
       "    </tr>\n",
       "  </thead>\n",
       "  <tbody>\n",
       "    <tr>\n",
       "      <th>18904</th>\n",
       "      <td>I was 10 or eleven years old when this movie c...</td>\n",
       "      <td>0</td>\n",
       "      <td>241</td>\n",
       "      <td>18904</td>\n",
       "    </tr>\n",
       "    <tr>\n",
       "      <th>48085</th>\n",
       "      <td>Amazing, one of my favorite movies way down at...</td>\n",
       "      <td>0</td>\n",
       "      <td>64</td>\n",
       "      <td>48085</td>\n",
       "    </tr>\n",
       "    <tr>\n",
       "      <th>27173</th>\n",
       "      <td>Years ago, I caught a fairly well made TV movi...</td>\n",
       "      <td>1</td>\n",
       "      <td>211</td>\n",
       "      <td>27173</td>\n",
       "    </tr>\n",
       "    <tr>\n",
       "      <th>49866</th>\n",
       "      <td>Michael Keaton has really never been a good ac...</td>\n",
       "      <td>1</td>\n",
       "      <td>139</td>\n",
       "      <td>49866</td>\n",
       "    </tr>\n",
       "    <tr>\n",
       "      <th>23246</th>\n",
       "      <td>I can honestly say that \"Death Bed: The Bed Th...</td>\n",
       "      <td>0</td>\n",
       "      <td>217</td>\n",
       "      <td>23246</td>\n",
       "    </tr>\n",
       "  </tbody>\n",
       "</table>\n",
       "</div>"
      ],
      "text/plain": [
       "                                                  review  sentiment  \\\n",
       "18904  I was 10 or eleven years old when this movie c...          0   \n",
       "48085  Amazing, one of my favorite movies way down at...          0   \n",
       "27173  Years ago, I caught a fairly well made TV movi...          1   \n",
       "49866  Michael Keaton has really never been a good ac...          1   \n",
       "23246  I can honestly say that \"Death Bed: The Bed Th...          0   \n",
       "\n",
       "       total_line  line_number  \n",
       "18904         241        18904  \n",
       "48085          64        48085  \n",
       "27173         211        27173  \n",
       "49866         139        49866  \n",
       "23246         217        23246  "
      ]
     },
     "execution_count": 75,
     "metadata": {},
     "output_type": "execute_result"
    }
   ],
   "source": [
    "train_df.head()"
   ]
  },
  {
   "cell_type": "code",
   "execution_count": 76,
   "id": "d49c1940",
   "metadata": {},
   "outputs": [
    {
     "data": {
      "text/plain": [
       "<AxesSubplot:ylabel='Frequency'>"
      ]
     },
     "execution_count": 76,
     "metadata": {},
     "output_type": "execute_result"
    },
    {
     "data": {
      "image/png": "[encoded data removed]",
      "text/plain": [
       "<Figure size 640x480 with 1 Axes>"
      ]
     },
     "metadata": {},
     "output_type": "display_data"
    }
   ],
   "source": [
    "train_df.line_number.plot.hist()"
   ]
  },
  {
   "cell_type": "code",
   "execution_count": 80,
   "id": "dd0c1105",
   "metadata": {},
   "outputs": [
    {
     "data": {
      "text/plain": [
       "47459"
      ]
     },
     "execution_count": 80,
     "metadata": {},
     "output_type": "execute_result"
    }
   ],
   "source": []
  },
  {
   "cell_type": "code",
   "execution_count": null,
   "id": "3652d8a2",
   "metadata": {},
   "outputs": [],
   "source": []
  },
  {
   "cell_type": "code",
   "execution_count": null,
   "id": "d640edf6",
   "metadata": {},
   "outputs": [],
   "source": []
  }
 ],
 "metadata": {
  "kernelspec": {
   "display_name": "Python 3 (ipykernel)",
   "language": "python",
   "name": "python3"
  },
  "language_info": {
   "codemirror_mode": {
    "name": "ipython",
    "version": 3
   },
   "file_extension": ".py",
   "mimetype": "text/x-python",
   "name": "python",
   "nbconvert_exporter": "python",
   "pygments_lexer": "ipython3",
   "version": "3.9.13"
  }
 },
 "nbformat": 4,
 "nbformat_minor": 5
}
